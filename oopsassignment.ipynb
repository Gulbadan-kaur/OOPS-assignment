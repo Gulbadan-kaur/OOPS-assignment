{
 "cells": [
  {
   "cell_type": "code",
   "execution_count": null,
   "id": "6a63501c-941b-433a-bbac-1fb1f49857cb",
   "metadata": {},
   "outputs": [],
   "source": [
    "OOPS ASSIGNMENT"
   ]
  },
  {
   "cell_type": "raw",
   "id": "d8e8e99e-4f31-47e7-869e-e38152492da5",
   "metadata": {},
   "source": [
    "Question-1: \n",
    "Answer: Object Oriented Programming is a language which is based on objects and classes"
   ]
  },
  {
   "cell_type": "markdown",
   "id": "f4ed60f0-91ea-42c8-9141-4039a5e6e1c0",
   "metadata": {},
   "source": [
    "Question-2:\n",
    "Answer: Class: Class in OOP is a blueprint or templete to create object. Without having class we cannot have object. It defines structure and method that objects have."
   ]
  },
  {
   "cell_type": "markdown",
   "id": "b9b1a5fb-b518-4439-a65d-ee468bebd6e5",
   "metadata": {},
   "source": [
    "Question-3:\n",
    "Answer: Object: To get make the use of functions or attributes present inside the class are done with the help of object. It is the instance of a \n",
    "class where attributes have specific value."
   ]
  },
  {
   "cell_type": "markdown",
   "id": "fee8f067-b4fd-4d56-8dee-65cb51e8372f",
   "metadata": {},
   "source": [
    "Question-4:\n",
    "Answer: Abstraction:\n",
    "       1. Abstraction is to hide the complex detail and expose only the necessary detail to the user.\n",
    "       2. Abstraction helps us to see what the object done, rather than how to do it.\n",
    "       3. We need saperate abstract class to define a structure and abstract method to define the interface.\n",
    "       4. We cannot create an object for abstract class like in normal class.\n",
    "       5. We cannot call abstract class method, we can only define them and they do not have any implementation.\n",
    "       Encapsulation:\n",
    "       1. Hiding the internal details of how class works and only exposing the safe interface to the outside world.\n",
    "       2. There are two types private and public.\n",
    "       3. We donot need any seperate class to define a structure and method to define interface.\n",
    "       4. We can create an object for class.\n",
    "       4. We can call the class method and that have implementation."
   ]
  },
  {
   "cell_type": "code",
   "execution_count": null,
   "id": "3b15daa4-cc16-4af1-9bd3-0f9566db122c",
   "metadata": {},
   "outputs": [],
   "source": [
    "Question-5:\n",
    "Answer: Dunder method id double underscore method in pyhton like __init__. It id used to define function."
   ]
  },
  {
   "cell_type": "code",
   "execution_count": null,
   "id": "59a00f8f-7cd3-489a-a110-40682f8f45ee",
   "metadata": {},
   "outputs": [],
   "source": [
    "Question-6:\n",
    "Answer: Inheritence: It is object oriented programme that allows child or sub class to inherit attributes and methods from parent or superclass.\n",
    "It is four types:\n",
    "1. Single Inhertence\n",
    "2. Multiple Inhertence\n",
    "3. Multilevel Inheritence\n",
    "4. Hierarchical Inheritence"
   ]
  },
  {
   "cell_type": "code",
   "execution_count": null,
   "id": "df586afa-d6d6-422f-858e-e0fa83e8ec43",
   "metadata": {},
   "outputs": [],
   "source": [
    "Question-7:\n",
    "Answer: Polymorphism:\n",
    "It refers to the ability of different classes to \n",
    "provide a different implementation of methods that share the same name. It allows the same interface (method name) to be used for different \n",
    "underlying data types or classes."
   ]
  },
  {
   "cell_type": "code",
   "execution_count": null,
   "id": "bcbc69fe-1451-4529-b98e-9064ef72cd85",
   "metadata": {},
   "outputs": [],
   "source": [
    "Question-8:\n",
    "Answer: "
   ]
  },
  {
   "cell_type": "code",
   "execution_count": null,
   "id": "56a81973-cf40-433b-b71b-9411c50d6997",
   "metadata": {},
   "outputs": [],
   "source": [
    "Question-9:\n",
    "Answer: Constructor:\n",
    "def__init__ = this is a constructor and we cannot change its name. Constructor is used to initialize the object properties."
   ]
  },
  {
   "cell_type": "code",
   "execution_count": null,
   "id": "37da0f4b-d47b-4426-b900-c977d5c83b75",
   "metadata": {},
   "outputs": [],
   "source": [
    "Question-10:\n",
    "Answer: 1. Class: It is a blueprint or templete to create objects. Without having class we cannot have objects.\n",
    "2. Static method: It can belong to class but donnot access or modify the class. "
   ]
  },
  {
   "cell_type": "code",
   "execution_count": null,
   "id": "e877cd00-b4bf-4962-8516-2c2a30ed70d3",
   "metadata": {},
   "outputs": [],
   "source": [
    "Question-11:\n",
    "Answer: Overloading: Also called compile-time polymorphism."
   ]
  },
  {
   "cell_type": "code",
   "execution_count": null,
   "id": "df9aa675-6e62-44d3-a2cf-9166777051e6",
   "metadata": {},
   "outputs": [],
   "source": [
    "Question-12:\n",
    "Answer: Overriding: Also called runtime polymorphism. It occurs in inheritence, where childclass overrides the method from parent class."
   ]
  },
  {
   "cell_type": "code",
   "execution_count": null,
   "id": "65fd3f40-d5dc-4770-b7c0-fee9d774cf3d",
   "metadata": {},
   "outputs": [],
   "source": [
    "Question-13:\n",
    "Answer: Property decorator:\n",
    "Propety decorator in abstract class that mark the method as abstract method. "
   ]
  },
  {
   "cell_type": "code",
   "execution_count": null,
   "id": "82580b15-f76b-478e-b202-1851a3e0ae99",
   "metadata": {},
   "outputs": [],
   "source": [
    "Question-14:\n",
    "Answer: It makes the system more flixible and easier to manage by allowing the same interface to be used for different data types. \n",
    "we can also modify the sub class without affecting the rest code. "
   ]
  },
  {
   "cell_type": "code",
   "execution_count": null,
   "id": "d8975c73-5f00-418e-8f9c-468d1c1e20be",
   "metadata": {},
   "outputs": [],
   "source": [
    "Question-15:\n",
    "Answer:Abstract class: It is the blueprint for abstractmethod. It is also inhereted by other sub classes. We need abstract class\n",
    "tp define a structure."
   ]
  },
  {
   "cell_type": "code",
   "execution_count": null,
   "id": "26eaaf3a-b1e6-4d09-b027-6762c4a86ed9",
   "metadata": {},
   "outputs": [],
   "source": []
  },
  {
   "cell_type": "code",
   "execution_count": null,
   "id": "5ed1d79d-9b61-4d55-8cf6-1dff98bc3aea",
   "metadata": {},
   "outputs": [],
   "source": [
    "Question-16:\n",
    "Answer:Advantages of OOP:\n",
    "1. Code is organised into classes and objects, making it easier to understant.\n",
    "2. We can also make the code private and public according to our requirement.\n",
    "3. We can also change the one part of the code without disturbing the whole code."
   ]
  },
  {
   "cell_type": "code",
   "execution_count": null,
   "id": "e8bb1582-fc64-4812-8af7-fc77a8a9897a",
   "metadata": {},
   "outputs": [],
   "source": [
    "Question-17:\n",
    "Answer:"
   ]
  },
  {
   "cell_type": "code",
   "execution_count": null,
   "id": "0b0442e8-31b2-4a60-8c4d-53b8f5be780c",
   "metadata": {},
   "outputs": [],
   "source": [
    "Question-18:\n",
    "Answer: Multiple inheritence:\n",
    "When there is one child class and more than one parents class."
   ]
  },
  {
   "cell_type": "code",
   "execution_count": null,
   "id": "3b6e934e-b3f1-418f-af00-50aa6e852e27",
   "metadata": {},
   "outputs": [],
   "source": [
    "Question-19:\n",
    "Answer: __str__ = it is used to define the string representation of object.\n",
    "__repr__: It is also string representation and ideally can be used for recreate the object."
   ]
  },
  {
   "cell_type": "code",
   "execution_count": null,
   "id": "1c14cbb0-7289-489d-8389-df2f686bf725",
   "metadata": {},
   "outputs": [],
   "source": [
    "Question-20:\n",
    "Answer: super() it is used to call methods from parent class from within a sub class."
   ]
  },
  {
   "cell_type": "code",
   "execution_count": null,
   "id": "331c954d-92ff-47ee-a685-730ef572093e",
   "metadata": {},
   "outputs": [],
   "source": [
    "Question-21:\n",
    "Answer: __del__: It is called destructor and ivolved automatically when object is about to be destroyed when no longer referred."
   ]
  },
  {
   "cell_type": "code",
   "execution_count": null,
   "id": "6db1bb58-6f23-4179-821a-a7cee403008f",
   "metadata": {},
   "outputs": [],
   "source": [
    "Question-22:\n",
    "Answer: "
   ]
  },
  {
   "cell_type": "code",
   "execution_count": null,
   "id": "5570f3fb-cc34-4dc3-bf8c-265635cbf0a6",
   "metadata": {},
   "outputs": [],
   "source": [
    "Question-23:\n",
    "Answer: Polymorphism in python when used with inheritence allows objects of different class treated as a object of common parent class. "
   ]
  },
  {
   "cell_type": "code",
   "execution_count": null,
   "id": "95eb1007-1f84-479e-bfd8-4dc07ffbe764",
   "metadata": {},
   "outputs": [],
   "source": [
    "Question-24:\n",
    "Answer: It is a technique where multiple methods are called on same object in a single line one after other. \n",
    "This works when each method returns self allowing the next method to be called on that return value."
   ]
  },
  {
   "cell_type": "markdown",
   "id": "c8f31d5e-e276-46ab-9e1f-4be9145ccae2",
   "metadata": {},
   "source": [
    "Question-25:\n",
    "Answer: The purpose of __call__ method in python : It is like dunder method which allows instance of class to be called like a regular function.\n",
    "It makes the objects callable."
   ]
  },
  {
   "cell_type": "code",
   "execution_count": null,
   "id": "7ed9c2df-be49-45e2-8c3e-25dd21fdf4a1",
   "metadata": {},
   "outputs": [],
   "source": [
    "Practical Questions:"
   ]
  },
  {
   "cell_type": "code",
   "execution_count": 29,
   "id": "8c66b8c6-8f5f-4803-a2b0-47ddbbf1485a",
   "metadata": {},
   "outputs": [
    {
     "name": "stdout",
     "output_type": "stream",
     "text": [
      "animals does not speak\n"
     ]
    }
   ],
   "source": [
    "\n",
    "class animal:\n",
    "    def speak(self):\n",
    "       print(\"animals does not speak\")\n",
    "class dog(animal):\n",
    "     def bark(self):\n",
    "        print(\"dog is barking\")\n",
    "\n",
    "a=animal()\n",
    "d=dog()\n",
    "\n",
    "a.speak()"
   ]
  },
  {
   "cell_type": "code",
   "execution_count": 31,
   "id": "9f49513c-4bf5-4c57-bf89-80bea6dcc0ed",
   "metadata": {},
   "outputs": [
    {
     "ename": "NameError",
     "evalue": "name 'ABC' is not defined",
     "output_type": "error",
     "traceback": [
      "\u001b[1;31m---------------------------------------------------------------------------\u001b[0m",
      "\u001b[1;31mNameError\u001b[0m                                 Traceback (most recent call last)",
      "Cell \u001b[1;32mIn[31], line 1\u001b[0m\n\u001b[1;32m----> 1\u001b[0m \u001b[38;5;28;01mclass\u001b[39;00m \u001b[38;5;21;01mShape\u001b[39;00m(ABC):\n\u001b[0;32m      2\u001b[0m     \u001b[38;5;129m@abstractmethod\u001b[39m\n\u001b[0;32m      3\u001b[0m     \u001b[38;5;28;01mdef\u001b[39;00m \u001b[38;5;21mabstract_method\u001b[39m(\u001b[38;5;28mself\u001b[39m):\n\u001b[0;32m      4\u001b[0m         \u001b[38;5;28;01mpass\u001b[39;00m\n",
      "\u001b[1;31mNameError\u001b[0m: name 'ABC' is not defined"
     ]
    }
   ],
   "source": [
    "\n",
    "class Shape(ABC):\n",
    "    @abstractmethod \n",
    "        def area(self):\n",
    "        pass\n",
    "class Circle(Shape):\n",
    "    def area(self):\n",
    "        print(\"circle is round\")\n",
    "\n",
    "class Rectangle(Shape):\n",
    "    def area(self):\n",
    "        print(\"rectangle is big\")\n",
    "\n",
    "c= Circle()\n",
    "r= Rectangle()\n",
    "\n",
    "c.area()\n",
    "r.area()"
   ]
  },
  {
   "cell_type": "code",
   "execution_count": 43,
   "id": "32a7dfa8-552b-4091-bc4e-522888b3c430",
   "metadata": {},
   "outputs": [
    {
     "name": "stdout",
     "output_type": "stream",
     "text": [
      "electric and desiel type\n",
      "electric and desiel type\n",
      "both electric and diesel\n"
     ]
    }
   ],
   "source": [
    "class Vehicle:\n",
    "    def type(self):\n",
    "        print(\"electric and desiel type\")\n",
    "\n",
    "class Car(Vehicle):\n",
    "    def drive(self):\n",
    "        print(\"both electric and diesel\")\n",
    "\n",
    "class Electriccar(Car):\n",
    "    def engine(self):\n",
    "        print(\"anything\")\n",
    "\n",
    "v= Vehicle()\n",
    "c= Car()\n",
    "e= Electriccar()\n",
    "\n",
    "v.type()\n",
    "c.type()\n",
    "c.drive()"
   ]
  },
  {
   "cell_type": "code",
   "execution_count": null,
   "id": "c3320a3d-3675-44a5-8d6d-efec1b5bb2e8",
   "metadata": {},
   "outputs": [],
   "source": []
  }
 ],
 "metadata": {
  "kernelspec": {
   "display_name": "Python [conda env:base] *",
   "language": "python",
   "name": "conda-base-py"
  },
  "language_info": {
   "codemirror_mode": {
    "name": "ipython",
    "version": 3
   },
   "file_extension": ".py",
   "mimetype": "text/x-python",
   "name": "python",
   "nbconvert_exporter": "python",
   "pygments_lexer": "ipython3",
   "version": "3.12.7"
  }
 },
 "nbformat": 4,
 "nbformat_minor": 5
}
